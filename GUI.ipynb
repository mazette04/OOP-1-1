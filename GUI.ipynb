{
  "nbformat": 4,
  "nbformat_minor": 0,
  "metadata": {
    "colab": {
      "name": "GUI.ipynb",
      "provenance": [],
      "authorship_tag": "ABX9TyPSUFMUtn5bf4T251RAci50",
      "include_colab_link": true
    },
    "kernelspec": {
      "name": "python3",
      "display_name": "Python 3"
    },
    "language_info": {
      "name": "python"
    }
  },
  "cells": [
    {
      "cell_type": "markdown",
      "metadata": {
        "id": "view-in-github",
        "colab_type": "text"
      },
      "source": [
        "<a href=\"https://colab.research.google.com/github/mazette04/OOP-1-1/blob/main/GUI.ipynb\" target=\"_parent\"><img src=\"https://colab.research.google.com/assets/colab-badge.svg\" alt=\"Open In Colab\"/></a>"
      ]
    },
    {
      "cell_type": "markdown",
      "source": [
        "Students' Grade in OOP subject"
      ],
      "metadata": {
        "id": "xa8rVoV7Rjde"
      }
    },
    {
      "cell_type": "code",
      "source": [
        "#@title Students' Grade in OOP\n",
        "student_name = \"Maria Rizette Sayo\" #@param {type:\"string\"}\n",
        "prelim = 90 #@param {type:'number'}\n",
        "midterm = 85 #@param {type:'number'}\n",
        "final  = 100 #@param {type:'number'}\n",
        "semestral_grade = round((prelim + midterm + final)/3,2)\n",
        "\n",
        "print(\"My prelim grade is\" + str(prelim))\n",
        "print(\"My midtern grade is\" + str(midterm))\n",
        "print(\"My final grade is\" + str(final))\n",
        "print(\"My semestral grade is:\" + str(semestral_grade))\n",
        "\n",
        "\n",
        "Gender = \"Female\" #@param [\"Male\",\"Female\"]\n",
        "BirthDate = '2022-04-07' #@param {type: \"date\"}\n",
        "\n",
        "print(\"My birthdate is:\" + BirthDate)"
      ],
      "metadata": {
        "colab": {
          "base_uri": "https://localhost:8080/"
        },
        "id": "bBZH1FAQRu8_",
        "outputId": "7eeb887a-4440-4684-d060-3578743ceebe"
      },
      "execution_count": 26,
      "outputs": [
        {
          "output_type": "stream",
          "name": "stdout",
          "text": [
            "My prelim grade is90\n",
            "My midtern grade is85\n",
            "My final grade is100\n",
            "My semestral grade is:91.67\n",
            "My birthdate is:2022-04-07\n"
          ]
        }
      ]
    },
    {
      "cell_type": "markdown",
      "source": [
        "Tkinter module - pycharm"
      ],
      "metadata": {
        "id": "oGUqitXGYk_I"
      }
    }
  ]
}