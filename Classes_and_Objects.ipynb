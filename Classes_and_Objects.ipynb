{
  "nbformat": 4,
  "nbformat_minor": 0,
  "metadata": {
    "colab": {
      "name": "Classes and Objects.ipynb",
      "provenance": [],
      "authorship_tag": "ABX9TyPlsNRMHbJ41/+g39nwVmbX",
      "include_colab_link": true
    },
    "kernelspec": {
      "name": "python3",
      "display_name": "Python 3"
    },
    "language_info": {
      "name": "python"
    }
  },
  "cells": [
    {
      "cell_type": "markdown",
      "metadata": {
        "id": "view-in-github",
        "colab_type": "text"
      },
      "source": [
        "<a href=\"https://colab.research.google.com/github/mazette04/OOP-1-1/blob/main/Classes_and_Objects.ipynb\" target=\"_parent\"><img src=\"https://colab.research.google.com/assets/colab-badge.svg\" alt=\"Open In Colab\"/></a>"
      ]
    },
    {
      "cell_type": "markdown",
      "source": [
        "Application 2 - Write a python program that displays the fullname of a student, student number, age, course, and school. Create a class name OOP_1_1 and create Info() method to display the information of a student with fullname, student_no, age, course, school as attributes"
      ],
      "metadata": {
        "id": "1Y-B17Ro1jl8"
      }
    },
    {
      "cell_type": "code",
      "source": [
        "class OOP_1_1:\n",
        "  def __init__ (self,fullname, student_no,age,course,school):\n",
        "    self.fullname = fullname\n",
        "    self.student_no = student_no\n",
        "    self.age = age\n",
        "    self.course = course\n",
        "    self.school = school\n",
        "\n",
        "  def Info(self):\n",
        "    print(\"My Name is\" + \" \" + self.fullname,self.student_no,self.age,self.course,self.school)\n",
        "    #print(\"My Name is\", self.fullname)\n",
        "    #print(\"My Student Number is\", self.student_no)\n",
        "    #print(\"My Age is\", self.age)\n",
        "    #print(\"My Course is\", self.course)\n",
        "    #print(\"My School is\", self.school)\n",
        "\n",
        "student = OOP_1_1(\"Maria Sayo\",201041063,39,\"BSCpE\",\"PLM\")\n",
        "student.Info()"
      ],
      "metadata": {
        "colab": {
          "base_uri": "https://localhost:8080/"
        },
        "id": "fWWx79P41mPh",
        "outputId": "bd5447ee-08dd-48eb-ee16-823522fd27fa"
      },
      "execution_count": 6,
      "outputs": [
        {
          "output_type": "stream",
          "name": "stdout",
          "text": [
            "My Name is Maria Sayo 201041063 39 BSCpE PLM\n"
          ]
        }
      ]
    },
    {
      "cell_type": "markdown",
      "source": [
        "Application 3-Define an Area() method of the class Circle that calculates the circle’s area.Define a Perimeter() method of the class which allows you to calculate the perimeter of the circle.\n"
      ],
      "metadata": {
        "id": "XovpTKq0686Y"
      }
    },
    {
      "cell_type": "code",
      "source": [
        ""
      ],
      "metadata": {
        "id": "2jxWpJOO6-Re"
      },
      "execution_count": null,
      "outputs": []
    }
  ]
}